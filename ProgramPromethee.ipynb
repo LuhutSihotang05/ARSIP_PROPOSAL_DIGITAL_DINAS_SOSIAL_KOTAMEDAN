{
  "cells": [
    {
      "cell_type": "markdown",
      "metadata": {
        "id": "view-in-github",
        "colab_type": "text"
      },
      "source": [
        "<a href=\"https://colab.research.google.com/github/LuhutSihotang05/ARSIP_PROPOSAL_DIGITAL_DINAS_SOSIAL_KOTAMEDAN/blob/main/ProgramPromethee.ipynb\" target=\"_parent\"><img src=\"https://colab.research.google.com/assets/colab-badge.svg\" alt=\"Open In Colab\"/></a>"
      ]
    },
    {
      "cell_type": "markdown",
      "metadata": {
        "id": "LaVgBEXD_R-W"
      },
      "source": [
        "# **PROGRAM PERANGKINGAN DENGAN MENGGUNAKAN METODE PROMETHEE**"
      ]
    },
    {
      "cell_type": "markdown",
      "metadata": {
        "id": "S36D8F4-_foR"
      },
      "source": [
        "Program ini dirancang untuk menggunakan metode PROMETHEE (Preference Ranking Organization Method for Enrichment Evaluation) dalam proses perangkingan calon penerima beasiswa KIP Kuliah yang diinisiasi oleh Anggota DPR RI Komisi X di Dapil Sumatera Utara I. Berikut Langkah-Langkah Pengerjaan dengan Metode Promethee:"
      ]
    },
    {
      "cell_type": "markdown",
      "metadata": {
        "id": "zJFxSGxQAik3"
      },
      "source": [
        "**Langkah 1: Memasang Google Drive**"
      ]
    },
    {
      "cell_type": "markdown",
      "metadata": {
        "id": "-0Xc7I35BU0j"
      },
      "source": [
        "Langkah ini digunakan untuk menghubungkan Google Colab dengan Google Drive Anda. Ini memungkinkan Anda untuk mengakses file yang tersimpan di Google Drive."
      ]
    },
    {
      "cell_type": "code",
      "execution_count": null,
      "metadata": {
        "colab": {
          "base_uri": "https://localhost:8080/"
        },
        "id": "UhBPPQ_Q0eIr",
        "outputId": "39038d97-3484-476e-c9e8-2a88ac23dfe6"
      },
      "outputs": [
        {
          "output_type": "stream",
          "name": "stdout",
          "text": [
            "Drive already mounted at /content/drive; to attempt to forcibly remount, call drive.mount(\"/content/drive\", force_remount=True).\n"
          ]
        }
      ],
      "source": [
        "from google.colab import drive\n",
        "\n",
        "# Mount Google Drive\n",
        "drive.mount('/content/drive')"
      ]
    },
    {
      "cell_type": "markdown",
      "metadata": {
        "id": "6D9Fy0ByBWyt"
      },
      "source": [
        "**Langkah 2: Membaca Data dari CSV**"
      ]
    },
    {
      "cell_type": "markdown",
      "metadata": {
        "id": "jO36tt7sBZHe"
      },
      "source": [
        "Di sini, dilakukan membaca data dari file CSV yang disimpan di Google Drive menggunakan pandas."
      ]
    },
    {
      "cell_type": "code",
      "execution_count": null,
      "metadata": {
        "colab": {
          "base_uri": "https://localhost:8080/"
        },
        "id": "xkkc6fwEBdwJ",
        "outputId": "2fab1720-c7d7-49fb-f639-2868eb8db347"
      },
      "outputs": [
        {
          "output_type": "stream",
          "name": "stdout",
          "text": [
            "  Kode Mahasiswa  TAHUN PENDAFTARAN Kampus Tujuan            KET DAPIL  \\\n",
            "0             A1               2016  AMIK Medicom   Luar Dapil Sumut I   \n",
            "1             A2               2016  AMIK Medicom   Luar Dapil Sumut I   \n",
            "2             A3               2016  AMIK Medicom   Luar Dapil Sumut I   \n",
            "3             A4               2016  AMIK Medicom  Dalam Dapil Sumut I   \n",
            "4             A5               2016  AMIK Medicom   Luar Dapil Sumut I   \n",
            "\n",
            "  Jumlah Saudara Kriteria Penghasilan Orang Tua KRITERIA TAHUN LULUS  \\\n",
            "0   Sangatbanyak                         Tinggi   2 tahun menganggur   \n",
            "1   Sangatbanyak                         Tinggi   2 tahun menganggur   \n",
            "2   Sangatbanyak                         Sedang   2 tahun menganggur   \n",
            "3        Sedikit                         Tinggi   2 tahun menganggur   \n",
            "4         Banyak                         Tinggi   1 tahun menganggur   \n",
            "\n",
            "       Kepemilikan Rumah Sumber Listrik (PLN) Luas Bangunan  \\\n",
            "0  Bebas Sewa(menumpang)           NONSUBSIDI          LUAS   \n",
            "1           Kontrak/Sewa                  RTM        SEMPIT   \n",
            "2          Milik Sendiri           NONSUBSIDI        SEMPIT   \n",
            "3           Kontrak/Sewa              SUBSIDI        SEMPIT   \n",
            "4           Kontrak/Sewa           NONSUBSIDI        SEMPIT   \n",
            "\n",
            "  Nilai Ujian Tertulis Hasil Wawncara      KETERANGAN confidence(Menerima)  \\\n",
            "0                Bagus         SEDANG        Menerima                  1,0   \n",
            "1                Bagus         SEDANG        Menerima                  0,9   \n",
            "2                Buruk         SEDANG  Tidak Menerima                  0,6   \n",
            "3                Bagus         SEDANG  Tidak Menerima                  0,8   \n",
            "4                Buruk         RENDAH  Tidak Menerima                  0,5   \n",
            "\n",
            "  confidence(Tidak Menerima) prediction(KETERANGAN)  \n",
            "0                        0,0               Menerima  \n",
            "1                        0,1               Menerima  \n",
            "2                        0,4               Menerima  \n",
            "3                        0,3               Menerima  \n",
            "4                        0,5         Tidak Menerima  \n"
          ]
        }
      ],
      "source": [
        "import numpy as np\n",
        "import pandas as pd\n",
        "\n",
        "# Membaca data dari CSV\n",
        "data = pd.read_csv('drive/My Drive/Colab Notebooks/Promethee/DATAPENGUJIANID3TERBARUFIX.csv', delimiter=';')\n",
        "print(data.head())"
      ]
    },
    {
      "cell_type": "markdown",
      "metadata": {
        "id": "TOiKdFt11C18"
      },
      "source": [
        "**PROSES MEMFILTER DATA YANG INGIN DI PROSES DI METODE PROMETHEE**"
      ]
    },
    {
      "cell_type": "code",
      "execution_count": null,
      "metadata": {
        "colab": {
          "base_uri": "https://localhost:8080/"
        },
        "id": "k96yJz8ty60G",
        "outputId": "2d404d39-f81a-42cb-d610-76d2b87adcd1"
      },
      "outputs": [
        {
          "output_type": "stream",
          "name": "stdout",
          "text": [
            "Tabel: Rating Kecocokan Pada Setiap Kriteria\n",
            "  Kode Mahasiswa  TAHUN PENDAFTARAN Kampus Tujuan Jumlah Saudara  \\\n",
            "0             A1               2016  AMIK Medicom   Sangatbanyak   \n",
            "1             A2               2016  AMIK Medicom   Sangatbanyak   \n",
            "2             A3               2016  AMIK Medicom   Sangatbanyak   \n",
            "3             A4               2016  AMIK Medicom        Sedikit   \n",
            "5             A6               2016          LP3I   Sangatbanyak   \n",
            "\n",
            "  Kriteria Penghasilan Orang Tua      Kepemilikan Rumah Sumber Listrik (PLN)  \\\n",
            "0                         Tinggi  Bebas Sewa(menumpang)           NONSUBSIDI   \n",
            "1                         Tinggi           Kontrak/Sewa                  RTM   \n",
            "2                         Sedang          Milik Sendiri           NONSUBSIDI   \n",
            "3                         Tinggi           Kontrak/Sewa              SUBSIDI   \n",
            "5                         Sedang           Kontrak/Sewa                  RTM   \n",
            "\n",
            "  Nilai Ujian Tertulis Hasil Wawncara  \n",
            "0                Bagus         SEDANG  \n",
            "1                Bagus         SEDANG  \n",
            "2                Buruk         SEDANG  \n",
            "3                Bagus         SEDANG  \n",
            "5         Sangat Bagus         TINGGI  \n"
          ]
        }
      ],
      "source": [
        "# Definisikan kriteria penyaringan\n",
        "filter_criteria = (data['prediction(KETERANGAN)'] == 'Menerima')\n",
        "\n",
        "# Filter data berdasarkan kriteria\n",
        "filtered_data_Rating_Kecocokan_Pada_Setiap_Kriteria = data[filter_criteria]\n",
        "\n",
        "# Pilih kolom yang diinginkan untuk tabel baru\n",
        "selected_columns = [\n",
        "    'Kode Mahasiswa',\n",
        "    'TAHUN PENDAFTARAN',\n",
        "    'Kampus Tujuan',\n",
        "    'Jumlah Saudara',\n",
        "    'Kriteria Penghasilan Orang Tua',\n",
        "    'Kepemilikan Rumah',\n",
        "    'Sumber Listrik (PLN)',\n",
        "    'Nilai Ujian Tertulis',\n",
        "    'Hasil Wawncara'\n",
        "]\n",
        "\n",
        "Rating_Kecocokan_Pada_Setiap_Kriteria = filtered_data_Rating_Kecocokan_Pada_Setiap_Kriteria[selected_columns]\n",
        "\n",
        "print(\"Tabel: Rating Kecocokan Pada Setiap Kriteria\")\n",
        "print(Rating_Kecocokan_Pada_Setiap_Kriteria.head())\n",
        "\n",
        "# Menyimpan tabel baru ke CSV baru\n",
        "Rating_Kecocokan_Pada_Setiap_Kriteria.to_csv('drive/My Drive/Colab Notebooks/Promethee/Filtered_data.csv', index=False)"
      ]
    },
    {
      "cell_type": "markdown",
      "metadata": {
        "id": "kWx0Ae0q1QE-"
      },
      "source": [
        "**MEMBACA DATA YANG TELAH DI FILTER**"
      ]
    },
    {
      "cell_type": "code",
      "execution_count": null,
      "metadata": {
        "colab": {
          "base_uri": "https://localhost:8080/"
        },
        "id": "u0aT1HTyzoFy",
        "outputId": "1613d8f8-8d03-4575-a639-a3f4ed0ed007"
      },
      "outputs": [
        {
          "output_type": "stream",
          "name": "stdout",
          "text": [
            "  Kode Mahasiswa  TAHUN PENDAFTARAN Kampus Tujuan Jumlah Saudara  \\\n",
            "0             A1               2016  AMIK Medicom   Sangatbanyak   \n",
            "1             A2               2016  AMIK Medicom   Sangatbanyak   \n",
            "2             A3               2016  AMIK Medicom   Sangatbanyak   \n",
            "3             A4               2016  AMIK Medicom        Sedikit   \n",
            "4             A6               2016          LP3I   Sangatbanyak   \n",
            "\n",
            "  Kriteria Penghasilan Orang Tua      Kepemilikan Rumah Sumber Listrik (PLN)  \\\n",
            "0                         Tinggi  Bebas Sewa(menumpang)           NONSUBSIDI   \n",
            "1                         Tinggi           Kontrak/Sewa                  RTM   \n",
            "2                         Sedang          Milik Sendiri           NONSUBSIDI   \n",
            "3                         Tinggi           Kontrak/Sewa              SUBSIDI   \n",
            "4                         Sedang           Kontrak/Sewa                  RTM   \n",
            "\n",
            "  Nilai Ujian Tertulis Hasil Wawncara  \n",
            "0                Bagus         SEDANG  \n",
            "1                Bagus         SEDANG  \n",
            "2                Buruk         SEDANG  \n",
            "3                Bagus         SEDANG  \n",
            "4         Sangat Bagus         TINGGI  \n"
          ]
        }
      ],
      "source": [
        "import numpy as np\n",
        "import pandas as pd\n",
        "\n",
        "# Membaca data dari CSV\n",
        "data = pd.read_csv('drive/My Drive/Colab Notebooks/Promethee/Filtered_data.csv', delimiter=',')\n",
        "print(data.head())"
      ]
    },
    {
      "cell_type": "markdown",
      "metadata": {
        "id": "HoC8058WBrTn"
      },
      "source": [
        "**Langkah 3: Mendefinisikan Peta Kriteria**"
      ]
    },
    {
      "cell_type": "markdown",
      "metadata": {
        "id": "YIdWmNamBuk1"
      },
      "source": [
        "Bagian ini mendefinisikan peta kriteria untuk mengubah data kategorikal menjadi nilai numerik yang akan digunakan dalam analisis."
      ]
    },
    {
      "cell_type": "code",
      "execution_count": null,
      "metadata": {
        "id": "oHs5gNKNBwtX"
      },
      "outputs": [],
      "source": [
        "# Definisikan peta kriteria\n",
        "criteria_mapping = {\n",
        "    'Jumlah Saudara': {\n",
        "        'Sedikit': 3,  # tidak memenuhi kriteria\n",
        "        'Banyak': 2,   # memenuhi kriteria\n",
        "        'Sangatbanyak': 1  # sangat memenuhi kriteria\n",
        "    },\n",
        "    'Kriteria Penghasilan Orang Tua': {\n",
        "        'Rendah': 1,  # sangat memenuhi kriteria\n",
        "        'Sedang': 2,  # memenuhi kriteria\n",
        "        'Tinggi': 3   # tidak memenuhi kriteria\n",
        "    },\n",
        "    'Kepemilikan Rumah': {\n",
        "        'Bebas Sewa(menumpang)': 3,  # tidak memenuhi kriteria\n",
        "        'Milik Sendiri': 2,          # memenuhi kriteria\n",
        "        'Kontrak/Sewa': 1            # sangat memenuhi kriteria\n",
        "    },\n",
        "    'Sumber Listrik (PLN)': {\n",
        "        'SUBSIDI': 1,      # sangat memenuhi kriteria\n",
        "        'RTM': 2,          # memenuhi kriteria\n",
        "        'NONSUBSIDI': 3    # tidak memenuhi kriteria\n",
        "    },\n",
        "    'Nilai Ujian Tertulis': {\n",
        "        'Sangat Bagus':1, # sangat memenuhi kriteria\n",
        "        'Bagus':2, # memenuhi kriteria\n",
        "        'Buruk':3 # tidak memenuhi kriteria\n",
        "    },\n",
        "    'Hasil Wawncara': {\n",
        "        'TINGGI':1, # sangat memenuhi kriteria\n",
        "        'SEDANG':2, # memenuhi kriteria\n",
        "        'RENDAH':3 # tidak memenuhi kriteria\n",
        "    }\n",
        "}"
      ]
    },
    {
      "cell_type": "markdown",
      "metadata": {
        "id": "Aak6r1MLB1xW"
      },
      "source": [
        "**Langkah 4: Menerapkan Peta Kriteria ke Data**"
      ]
    },
    {
      "cell_type": "markdown",
      "metadata": {
        "id": "bcw6YzBkB4ja"
      },
      "source": [
        "Kita mengubah nilai-nilai kategorikal di setiap kolom sesuai dengan peta kriteria yang telah didefinisikan."
      ]
    },
    {
      "cell_type": "code",
      "execution_count": null,
      "metadata": {
        "id": "Bp3n_gGGB6OG"
      },
      "outputs": [],
      "source": [
        "# Menerapkan peta kriteria ke filtered_data_Rating_Kecocokan_Pada_Setiap_Kriteria\n",
        "for column, mapping in criteria_mapping.items():\n",
        "    data.loc[:,column] = data[column].map(mapping).astype('float64')"
      ]
    },
    {
      "cell_type": "markdown",
      "metadata": {
        "id": "nBW9HNfPCAVT"
      },
      "source": [
        "**Langkah 5: Mendefinisikan Kriteria dan Bobot Kriteria**"
      ]
    },
    {
      "cell_type": "markdown",
      "metadata": {
        "id": "IinqlLicCCzP"
      },
      "source": [
        "Langkah ini mendefinisikan kriteria yang akan digunakan dan bobot masing-masing kriteria."
      ]
    },
    {
      "cell_type": "code",
      "execution_count": null,
      "metadata": {
        "id": "DQuycCR8CLQs"
      },
      "outputs": [],
      "source": [
        "# Mengganti Nama Mahasiswa dengan A1, A2, dst.\n",
        "data['Nama Mahasiswa'] = ['A' + str(i+1) for i in range(len(data))]\n",
        "\n",
        "# Definisikan kriteria dan tipe kriteria\n",
        "criteria_type = {\n",
        "    'Jumlah Saudara': 'cost',\n",
        "    'Kriteria Penghasilan Orang Tua': 'cost',\n",
        "    'Kepemilikan Rumah': 'benefit',\n",
        "    'Sumber Listrik (PLN)': 'benefit',\n",
        "    'Nilai Ujian Tertulis': 'benefit',\n",
        "    'Hasil Wawncara': 'benefit'\n",
        "}\n",
        "criteria = ['Jumlah Saudara', 'Kriteria Penghasilan Orang Tua', 'Kepemilikan Rumah', 'Sumber Listrik (PLN)','Nilai Ujian Tertulis','Hasil Wawncara']\n",
        "weights = np.array([1, 2, 0.5, 0.5, 3, 3])"
      ]
    },
    {
      "cell_type": "code",
      "source": [
        "# Menampilkan data dengan rating kecocokan\n",
        "print(data[['Nama Mahasiswa','Jumlah Saudara', 'Kriteria Penghasilan Orang Tua', 'Kepemilikan Rumah', 'Sumber Listrik (PLN)','Nilai Ujian Tertulis','Hasil Wawncara']])"
      ],
      "metadata": {
        "colab": {
          "base_uri": "https://localhost:8080/"
        },
        "id": "7ItYiTiYw450",
        "outputId": "14c8e681-c507-4edf-9df7-1d449f01dd8e"
      },
      "execution_count": null,
      "outputs": [
        {
          "output_type": "stream",
          "name": "stdout",
          "text": [
            "     Nama Mahasiswa Jumlah Saudara Kriteria Penghasilan Orang Tua  \\\n",
            "0                A1            1.0                            3.0   \n",
            "1                A2            1.0                            3.0   \n",
            "2                A3            1.0                            2.0   \n",
            "3                A4            3.0                            3.0   \n",
            "4                A5            1.0                            2.0   \n",
            "...             ...            ...                            ...   \n",
            "2554          A2555            3.0                            3.0   \n",
            "2555          A2556            3.0                            2.0   \n",
            "2556          A2557            1.0                            2.0   \n",
            "2557          A2558            3.0                            2.0   \n",
            "2558          A2559            1.0                            3.0   \n",
            "\n",
            "     Kepemilikan Rumah Sumber Listrik (PLN) Nilai Ujian Tertulis  \\\n",
            "0                  3.0                  3.0                  2.0   \n",
            "1                  1.0                  2.0                  2.0   \n",
            "2                  2.0                  3.0                  3.0   \n",
            "3                  1.0                  1.0                  2.0   \n",
            "4                  1.0                  2.0                  1.0   \n",
            "...                ...                  ...                  ...   \n",
            "2554               3.0                  2.0                  1.0   \n",
            "2555               1.0                  3.0                  2.0   \n",
            "2556               3.0                  3.0                  2.0   \n",
            "2557               2.0                  1.0                  1.0   \n",
            "2558               3.0                  3.0                  2.0   \n",
            "\n",
            "     Hasil Wawncara  \n",
            "0               2.0  \n",
            "1               2.0  \n",
            "2               2.0  \n",
            "3               2.0  \n",
            "4               1.0  \n",
            "...             ...  \n",
            "2554            2.0  \n",
            "2555            2.0  \n",
            "2556            2.0  \n",
            "2557            1.0  \n",
            "2558            1.0  \n",
            "\n",
            "[2559 rows x 7 columns]\n"
          ]
        }
      ]
    },
    {
      "cell_type": "markdown",
      "metadata": {
        "id": "yj8LQJaHCRFk"
      },
      "source": [
        "**Langkah 6: Normalisasi Matriks**"
      ]
    },
    {
      "cell_type": "markdown",
      "metadata": {
        "id": "4fRyZDLZCTbl"
      },
      "source": [
        "Fungsi normalize_matrix digunakan untuk menormalisasi matriks keputusan sehingga setiap kolom memiliki rentang nilai antara 0 dan 1."
      ]
    },
    {
      "cell_type": "code",
      "execution_count": null,
      "metadata": {
        "id": "EGZ_D0klCWGT"
      },
      "outputs": [],
      "source": [
        "# Fungsi untuk normalisasi cost\n",
        "def normalize_cost(column):\n",
        "    return (column.max() - column) / (column.max() - column.min())\n",
        "\n",
        "# Fungsi untuk normalisasi benefit\n",
        "def normalize_benefit(column):\n",
        "    return (column - column.min()) / (column.max() - column.min())\n",
        "\n",
        "# Filter columns in the DataFrame to only include those in criteria_type\n",
        "relevant_columns = [col for col in data.columns if col in criteria_type]\n",
        "\n",
        "# Normalisasi data berdasarkan tipe kriteria\n",
        "for col in relevant_columns:\n",
        "    if criteria_type[col] == 'cost':\n",
        "        data[col] = normalize_cost(data[col])\n",
        "    else:\n",
        "        data[col] = normalize_benefit(data[col])\n",
        "\n",
        "# Normalisasi matriks (dapat digunakan jika diperlukan)\n",
        "def normalize_matrix(matrix):\n",
        "    num_rows, num_cols = matrix.shape\n",
        "    norm_matrix = np.zeros((num_rows, num_cols))\n",
        "\n",
        "    for j in range(num_cols):\n",
        "        col = matrix[:, j]\n",
        "        min_val = np.min(col)\n",
        "        max_val = np.max(col)\n",
        "\n",
        "        if max_val == min_val:\n",
        "            norm_matrix[:, j] = 0\n",
        "        else:\n",
        "            norm_matrix[:, j] = (col - min_val) / (max_val - min_val)\n",
        "\n",
        "    return norm_matrix"
      ]
    },
    {
      "cell_type": "markdown",
      "metadata": {
        "id": "aZzNETa-CcSd"
      },
      "source": [
        "**Langkah 7: Menghitung Matriks Preferensi**"
      ]
    },
    {
      "cell_type": "markdown",
      "metadata": {
        "id": "t3k_svaXCfV0"
      },
      "source": [
        "Fungsi calculate_preference_function digunakan untuk menghitung matriks preferensi, yang menunjukkan seberapa besar preferensi satu alternatif dibandingkan alternatif lainnya untuk setiap kriteria."
      ]
    },
    {
      "cell_type": "code",
      "execution_count": null,
      "metadata": {
        "id": "o05BXFS4ChMe"
      },
      "outputs": [],
      "source": [
        "def calculate_preference_function(normalized_matrix):\n",
        "    num_alternatives = normalized_matrix.shape[0]\n",
        "    preference_matrix = np.zeros((num_alternatives, num_alternatives, normalized_matrix.shape[1]))\n",
        "\n",
        "    for i in range(num_alternatives):\n",
        "        for i_prime in range(num_alternatives):\n",
        "            if i != i_prime:\n",
        "                for j in range(normalized_matrix.shape[1]):\n",
        "                    if normalized_matrix[i, j] > normalized_matrix[i_prime, j]:\n",
        "                        preference_matrix[i, i_prime, j] = normalized_matrix[i, j] - normalized_matrix[i_prime, j]\n",
        "\n",
        "    return preference_matrix"
      ]
    },
    {
      "cell_type": "markdown",
      "metadata": {
        "id": "7XBRPSZwCmO4"
      },
      "source": [
        "**Langkah 8: Menghitung Matriks Preferensi Agregat**"
      ]
    },
    {
      "cell_type": "markdown",
      "metadata": {
        "id": "n7EDRCTpCoFz"
      },
      "source": [
        "Fungsi calculate_aggregate_preference digunakan untuk menggabungkan nilai-nilai preferensi individual menjadi satu nilai agregat menggunakan bobot kriteria."
      ]
    },
    {
      "cell_type": "code",
      "execution_count": null,
      "metadata": {
        "id": "8sAv6S4NCqRd"
      },
      "outputs": [],
      "source": [
        "def calculate_aggregate_preference(preference_matrix, weights):\n",
        "    num_alternatives = preference_matrix.shape[0]\n",
        "    num_criteria = preference_matrix.shape[2]\n",
        "\n",
        "    aggregate_preference_matrix = np.zeros((num_alternatives, num_alternatives))\n",
        "\n",
        "    for i in range(num_alternatives):\n",
        "        for i_prime in range(num_alternatives):\n",
        "            if i != i_prime:\n",
        "                weighted_sum = np.sum(weights * preference_matrix[i, i_prime, :])\n",
        "                weight_sum = np.sum(weights)\n",
        "                if weight_sum != 0:\n",
        "                    aggregate_preference_matrix[i, i_prime] = weighted_sum / weight_sum\n",
        "                else:\n",
        "                    aggregate_preference_matrix[i, i_prime] = 0\n",
        "\n",
        "    return aggregate_preference_matrix"
      ]
    },
    {
      "cell_type": "markdown",
      "metadata": {
        "id": "gnuM_4eWCuyt"
      },
      "source": [
        "**Langkah 9: Menghitung Leaving Flow dan Entering Flow**"
      ]
    },
    {
      "cell_type": "markdown",
      "metadata": {
        "id": "1lr0_IsICxFt"
      },
      "source": [
        "Fungsi promethee_flows digunakan untuk menghitung leaving flow dan entering flow dari matriks preferensi agregat."
      ]
    },
    {
      "cell_type": "code",
      "execution_count": null,
      "metadata": {
        "id": "4YR92QccCzXo"
      },
      "outputs": [],
      "source": [
        "# Fungsi untuk menghitung leaving flow dan entering flow\n",
        "def promethee_flows(aggregated_matrix):\n",
        "    num_alternatives = aggregated_matrix.shape[0]\n",
        "\n",
        "    if num_alternatives > 1:\n",
        "        leaving_flow = np.sum(aggregated_matrix, axis=1) / (num_alternatives - 1)\n",
        "        entering_flow = np.sum(aggregated_matrix, axis=0) / (num_alternatives - 1)\n",
        "    else:\n",
        "        leaving_flow = np.zeros(num_alternatives)\n",
        "        entering_flow = np.zeros(num_alternatives)\n",
        "\n",
        "    return leaving_flow, entering_flow"
      ]
    },
    {
      "cell_type": "markdown",
      "metadata": {
        "id": "OKCOxkeDC3_G"
      },
      "source": [
        "**Langkah 10: Menghitung Net Flow**"
      ]
    },
    {
      "cell_type": "markdown",
      "metadata": {
        "id": "hAoIwijwC6LO"
      },
      "source": [
        "Fungsi net_flows digunakan untuk menghitung net flow yang merupakan selisih antara leaving flow dan entering flow."
      ]
    },
    {
      "cell_type": "code",
      "execution_count": null,
      "metadata": {
        "id": "kJM55KOvC7zn"
      },
      "outputs": [],
      "source": [
        "# Fungsi untuk menghitung net flow\n",
        "def net_flows(leaving_flow, entering_flow):\n",
        "    return leaving_flow - entering_flow"
      ]
    },
    {
      "cell_type": "markdown",
      "metadata": {
        "id": "odlmhK6ADAqU"
      },
      "source": [
        "**Langkah 11: Meranking Alternatif**"
      ]
    },
    {
      "cell_type": "markdown",
      "metadata": {
        "id": "9Z3cY6yADD5j"
      },
      "source": [
        "Fungsi rank_alternatives digunakan untuk meranking alternatif berdasarkan nilai net flow."
      ]
    },
    {
      "cell_type": "code",
      "execution_count": null,
      "metadata": {
        "id": "RYmLbyhtDFWI"
      },
      "outputs": [],
      "source": [
        "# Fungsi untuk meranking alternatif\n",
        "def rank_alternatives(net_flow):\n",
        "    return np.argsort(-net_flow)"
      ]
    },
    {
      "cell_type": "markdown",
      "metadata": {
        "id": "sXN5EBIrDLOE"
      },
      "source": [
        "**Langkah 12: Memproses Data dan Menyimpan Hasil**"
      ]
    },
    {
      "cell_type": "markdown",
      "metadata": {
        "id": "2kzUPnDGDWHg"
      },
      "source": [
        "Pada bagian akhir ini, kita memproses data yang telah difilter berdasarkan \"Tahun Pendaftaran\" dan \"Kampus Tujuan\". Hasil dari setiap grup data disimpan dalam file Excel yang terpisah di Google Drive. Proses ini meliputi normalisasi matriks, perhitungan matriks preferensi, agregasi preferensi, dan perhitungan flows serta ranking."
      ]
    },
    {
      "cell_type": "code",
      "execution_count": null,
      "metadata": {
        "colab": {
          "base_uri": "https://localhost:8080/"
        },
        "id": "0_sezVvBDYpY",
        "outputId": "0b3588ca-4bed-4d6a-ded3-e0ec9fe607f8"
      },
      "outputs": [
        {
          "output_type": "stream",
          "name": "stdout",
          "text": [
            "Hasil untuk tahun 2016 dan kampus AMIK Medicom telah disimpan dalam /content/drive/My Drive/Colab Notebooks/Promethee/hasil_promethee/2016/AMIK Medicom.xlsx\n",
            "Hasil untuk tahun 2016 dan kampus LP3I telah disimpan dalam /content/drive/My Drive/Colab Notebooks/Promethee/hasil_promethee/2016/LP3I.xlsx\n",
            "Hasil untuk tahun 2016 dan kampus PTKI Medan telah disimpan dalam /content/drive/My Drive/Colab Notebooks/Promethee/hasil_promethee/2016/PTKI Medan.xlsx\n",
            "Hasil untuk tahun 2016 dan kampus STIE Eka Prasetya telah disimpan dalam /content/drive/My Drive/Colab Notebooks/Promethee/hasil_promethee/2016/STIE Eka Prasetya.xlsx\n",
            "Hasil untuk tahun 2016 dan kampus STMIK Mikroskil telah disimpan dalam /content/drive/My Drive/Colab Notebooks/Promethee/hasil_promethee/2016/STMIK Mikroskil.xlsx\n",
            "Hasil untuk tahun 2016 dan kampus UIN Medan telah disimpan dalam /content/drive/My Drive/Colab Notebooks/Promethee/hasil_promethee/2016/UIN Medan.xlsx\n",
            "Hasil untuk tahun 2016 dan kampus Universitas Medan Area  telah disimpan dalam /content/drive/My Drive/Colab Notebooks/Promethee/hasil_promethee/2016/Universitas Medan Area .xlsx\n",
            "Hasil untuk tahun 2016 dan kampus Universitas Negeri Medan  telah disimpan dalam /content/drive/My Drive/Colab Notebooks/Promethee/hasil_promethee/2016/Universitas Negeri Medan .xlsx\n",
            "Hasil untuk tahun 2016 dan kampus Universitas Prima Indonesia telah disimpan dalam /content/drive/My Drive/Colab Notebooks/Promethee/hasil_promethee/2016/Universitas Prima Indonesia.xlsx\n",
            "Hasil untuk tahun 2016 dan kampus Universitas Quality telah disimpan dalam /content/drive/My Drive/Colab Notebooks/Promethee/hasil_promethee/2016/Universitas Quality.xlsx\n",
            "Hasil untuk tahun 2016 dan kampus Universitas Sumatera Utara  telah disimpan dalam /content/drive/My Drive/Colab Notebooks/Promethee/hasil_promethee/2016/Universitas Sumatera Utara .xlsx\n",
            "Hasil untuk tahun 2017 dan kampus AMIK Medicom Medan telah disimpan dalam /content/drive/My Drive/Colab Notebooks/Promethee/hasil_promethee/2017/AMIK Medicom Medan.xlsx\n",
            "Hasil untuk tahun 2017 dan kampus Politeknik Negeri Medan telah disimpan dalam /content/drive/My Drive/Colab Notebooks/Promethee/hasil_promethee/2017/Politeknik Negeri Medan.xlsx\n",
            "Hasil untuk tahun 2017 dan kampus STIE Eka Prasetya Medan telah disimpan dalam /content/drive/My Drive/Colab Notebooks/Promethee/hasil_promethee/2017/STIE Eka Prasetya Medan.xlsx\n",
            "Hasil untuk tahun 2017 dan kampus STMIK TIME Medan telah disimpan dalam /content/drive/My Drive/Colab Notebooks/Promethee/hasil_promethee/2017/STMIK TIME Medan.xlsx\n",
            "Hasil untuk tahun 2017 dan kampus Universitas Bangka Belitung telah disimpan dalam /content/drive/My Drive/Colab Notebooks/Promethee/hasil_promethee/2017/Universitas Bangka Belitung.xlsx\n",
            "Hasil untuk tahun 2017 dan kampus Universitas Darma Agung telah disimpan dalam /content/drive/My Drive/Colab Notebooks/Promethee/hasil_promethee/2017/Universitas Darma Agung.xlsx\n",
            "Hasil untuk tahun 2017 dan kampus Universitas Jambi telah disimpan dalam /content/drive/My Drive/Colab Notebooks/Promethee/hasil_promethee/2017/Universitas Jambi.xlsx\n",
            "Hasil untuk tahun 2017 dan kampus Universitas Malikul saleh Lhokseumawe telah disimpan dalam /content/drive/My Drive/Colab Notebooks/Promethee/hasil_promethee/2017/Universitas Malikul saleh Lhokseumawe.xlsx\n",
            "Hasil untuk tahun 2017 dan kampus Universitas Medan Area Medan telah disimpan dalam /content/drive/My Drive/Colab Notebooks/Promethee/hasil_promethee/2017/Universitas Medan Area Medan.xlsx\n",
            "Hasil untuk tahun 2017 dan kampus Universitas Methodist Indonesia telah disimpan dalam /content/drive/My Drive/Colab Notebooks/Promethee/hasil_promethee/2017/Universitas Methodist Indonesia.xlsx\n",
            "Hasil untuk tahun 2017 dan kampus Universitas Metodhist Indonesia telah disimpan dalam /content/drive/My Drive/Colab Notebooks/Promethee/hasil_promethee/2017/Universitas Metodhist Indonesia.xlsx\n",
            "Hasil untuk tahun 2017 dan kampus Universitas Negeri Medan  telah disimpan dalam /content/drive/My Drive/Colab Notebooks/Promethee/hasil_promethee/2017/Universitas Negeri Medan .xlsx\n",
            "Hasil untuk tahun 2017 dan kampus Universitas Negeri Yogyakarta telah disimpan dalam /content/drive/My Drive/Colab Notebooks/Promethee/hasil_promethee/2017/Universitas Negeri Yogyakarta.xlsx\n",
            "Hasil untuk tahun 2017 dan kampus Universitas Pembangunan Panca Budi  telah disimpan dalam /content/drive/My Drive/Colab Notebooks/Promethee/hasil_promethee/2017/Universitas Pembangunan Panca Budi .xlsx\n",
            "Hasil untuk tahun 2017 dan kampus Universitas Prima Indonesia telah disimpan dalam /content/drive/My Drive/Colab Notebooks/Promethee/hasil_promethee/2017/Universitas Prima Indonesia.xlsx\n",
            "Hasil untuk tahun 2017 dan kampus Universitas Sumatera Utara  telah disimpan dalam /content/drive/My Drive/Colab Notebooks/Promethee/hasil_promethee/2017/Universitas Sumatera Utara .xlsx\n",
            "Hasil untuk tahun 2018 dan kampus AKADEMI PEREKAM MEDIK DAN INFORMASI KESEHATAN IMELDA telah disimpan dalam /content/drive/My Drive/Colab Notebooks/Promethee/hasil_promethee/2018/AKADEMI PEREKAM MEDIK DAN INFORMASI KESEHATAN IMELDA.xlsx\n",
            "Hasil untuk tahun 2018 dan kampus AMIK Medan Business Polyteknik telah disimpan dalam /content/drive/My Drive/Colab Notebooks/Promethee/hasil_promethee/2018/AMIK Medan Business Polyteknik.xlsx\n",
            "Hasil untuk tahun 2018 dan kampus Akademi Informatika dan Komputer Medicom telah disimpan dalam /content/drive/My Drive/Colab Notebooks/Promethee/hasil_promethee/2018/Akademi Informatika dan Komputer Medicom.xlsx\n",
            "Hasil untuk tahun 2018 dan kampus Akademi Kebidanan Sari Husada telah disimpan dalam /content/drive/My Drive/Colab Notebooks/Promethee/hasil_promethee/2018/Akademi Kebidanan Sari Husada.xlsx\n",
            "Hasil untuk tahun 2018 dan kampus Akademi Sekretari Manajemen Cendana telah disimpan dalam /content/drive/My Drive/Colab Notebooks/Promethee/hasil_promethee/2018/Akademi Sekretari Manajemen Cendana.xlsx\n",
            "Hasil untuk tahun 2018 dan kampus Institut Kesehatan Deli Husada telah disimpan dalam /content/drive/My Drive/Colab Notebooks/Promethee/hasil_promethee/2018/Institut Kesehatan Deli Husada.xlsx\n",
            "Hasil untuk tahun 2018 dan kampus Institut Kesehatan Medistra telah disimpan dalam /content/drive/My Drive/Colab Notebooks/Promethee/hasil_promethee/2018/Institut Kesehatan Medistra.xlsx\n",
            "Hasil untuk tahun 2018 dan kampus Institut Teknologi Medan telah disimpan dalam /content/drive/My Drive/Colab Notebooks/Promethee/hasil_promethee/2018/Institut Teknologi Medan.xlsx\n",
            "Hasil untuk tahun 2018 dan kampus Politeknik Mandiri Bina Prestasi telah disimpan dalam /content/drive/My Drive/Colab Notebooks/Promethee/hasil_promethee/2018/Politeknik Mandiri Bina Prestasi.xlsx\n",
            "Hasil untuk tahun 2018 dan kampus Politeknik Negeri Medan telah disimpan dalam /content/drive/My Drive/Colab Notebooks/Promethee/hasil_promethee/2018/Politeknik Negeri Medan.xlsx\n",
            "Hasil untuk tahun 2018 dan kampus Politeknik Negeri Media Kreatif telah disimpan dalam /content/drive/My Drive/Colab Notebooks/Promethee/hasil_promethee/2018/Politeknik Negeri Media Kreatif.xlsx\n",
            "Hasil untuk tahun 2018 dan kampus Politeknik Wilmar Bisnis Indonesia  telah disimpan dalam /content/drive/My Drive/Colab Notebooks/Promethee/hasil_promethee/2018/Politeknik Wilmar Bisnis Indonesia .xlsx\n",
            "Hasil untuk tahun 2018 dan kampus STIE BINA KARYA TEBING TINGGI telah disimpan dalam /content/drive/My Drive/Colab Notebooks/Promethee/hasil_promethee/2018/STIE BINA KARYA TEBING TINGGI.xlsx\n",
            "Hasil untuk tahun 2018 dan kampus STIE EKA PRASETYA telah disimpan dalam /content/drive/My Drive/Colab Notebooks/Promethee/hasil_promethee/2018/STIE EKA PRASETYA.xlsx\n",
            "Hasil untuk tahun 2018 dan kampus STIE MIKROSKIL telah disimpan dalam /content/drive/My Drive/Colab Notebooks/Promethee/hasil_promethee/2018/STIE MIKROSKIL.xlsx\n",
            "Hasil untuk tahun 2018 dan kampus STIKES MURNI TEGUH telah disimpan dalam /content/drive/My Drive/Colab Notebooks/Promethee/hasil_promethee/2018/STIKES MURNI TEGUH.xlsx\n",
            "Hasil untuk tahun 2018 dan kampus STIKes Mitra Husada Medan telah disimpan dalam /content/drive/My Drive/Colab Notebooks/Promethee/hasil_promethee/2018/STIKes Mitra Husada Medan.xlsx\n",
            "Hasil untuk tahun 2018 dan kampus STMB MULTISMART  telah disimpan dalam /content/drive/My Drive/Colab Notebooks/Promethee/hasil_promethee/2018/STMB MULTISMART .xlsx\n",
            "Hasil untuk tahun 2018 dan kampus STMIK IBBI telah disimpan dalam /content/drive/My Drive/Colab Notebooks/Promethee/hasil_promethee/2018/STMIK IBBI.xlsx\n",
            "Hasil untuk tahun 2018 dan kampus STMIK MIKROSKIL telah disimpan dalam /content/drive/My Drive/Colab Notebooks/Promethee/hasil_promethee/2018/STMIK MIKROSKIL.xlsx\n",
            "Hasil untuk tahun 2018 dan kampus STMIK TIME  telah disimpan dalam /content/drive/My Drive/Colab Notebooks/Promethee/hasil_promethee/2018/STMIK TIME .xlsx\n",
            "Hasil untuk tahun 2018 dan kampus STOK BINA GUNA telah disimpan dalam /content/drive/My Drive/Colab Notebooks/Promethee/hasil_promethee/2018/STOK BINA GUNA.xlsx\n",
            "Hasil untuk tahun 2018 dan kampus Sekolah Tinggi Ilmu Ekonomi ITMI Medan telah disimpan dalam /content/drive/My Drive/Colab Notebooks/Promethee/hasil_promethee/2018/Sekolah Tinggi Ilmu Ekonomi ITMI Medan.xlsx\n",
            "Hasil untuk tahun 2018 dan kampus Sekolah Tinggi Kesehatan Imelda telah disimpan dalam /content/drive/My Drive/Colab Notebooks/Promethee/hasil_promethee/2018/Sekolah Tinggi Kesehatan Imelda.xlsx\n",
            "Hasil untuk tahun 2018 dan kampus UNIVERSITAS KRISTEN DUTA WACANA telah disimpan dalam /content/drive/My Drive/Colab Notebooks/Promethee/hasil_promethee/2018/UNIVERSITAS KRISTEN DUTA WACANA.xlsx\n",
            "Hasil untuk tahun 2018 dan kampus Universitas Islam Sumatera Utara telah disimpan dalam /content/drive/My Drive/Colab Notebooks/Promethee/hasil_promethee/2018/Universitas Islam Sumatera Utara.xlsx\n",
            "Hasil untuk tahun 2018 dan kampus Universitas Katolik Santo Thomas telah disimpan dalam /content/drive/My Drive/Colab Notebooks/Promethee/hasil_promethee/2018/Universitas Katolik Santo Thomas.xlsx\n",
            "Hasil untuk tahun 2018 dan kampus Universitas Methodist Indonesia telah disimpan dalam /content/drive/My Drive/Colab Notebooks/Promethee/hasil_promethee/2018/Universitas Methodist Indonesia.xlsx\n",
            "Hasil untuk tahun 2018 dan kampus Universitas Muhammadiyah Sumatera Utara telah disimpan dalam /content/drive/My Drive/Colab Notebooks/Promethee/hasil_promethee/2018/Universitas Muhammadiyah Sumatera Utara.xlsx\n",
            "Hasil untuk tahun 2018 dan kampus Universitas Muslim Nusantara Al-wasliyah telah disimpan dalam /content/drive/My Drive/Colab Notebooks/Promethee/hasil_promethee/2018/Universitas Muslim Nusantara Al-wasliyah.xlsx\n",
            "Hasil untuk tahun 2018 dan kampus Universitas Negeri Manado telah disimpan dalam /content/drive/My Drive/Colab Notebooks/Promethee/hasil_promethee/2018/Universitas Negeri Manado.xlsx\n",
            "Hasil untuk tahun 2018 dan kampus Universitas Negeri Medan telah disimpan dalam /content/drive/My Drive/Colab Notebooks/Promethee/hasil_promethee/2018/Universitas Negeri Medan.xlsx\n",
            "Hasil untuk tahun 2018 dan kampus Universitas Palangkaraya telah disimpan dalam /content/drive/My Drive/Colab Notebooks/Promethee/hasil_promethee/2018/Universitas Palangkaraya.xlsx\n",
            "Hasil untuk tahun 2018 dan kampus Universitas Pembangunan Panca Budi  telah disimpan dalam /content/drive/My Drive/Colab Notebooks/Promethee/hasil_promethee/2018/Universitas Pembangunan Panca Budi .xlsx\n",
            "Hasil untuk tahun 2018 dan kampus Universitas Prima Indonesia telah disimpan dalam /content/drive/My Drive/Colab Notebooks/Promethee/hasil_promethee/2018/Universitas Prima Indonesia.xlsx\n",
            "Hasil untuk tahun 2018 dan kampus Universitas Quality telah disimpan dalam /content/drive/My Drive/Colab Notebooks/Promethee/hasil_promethee/2018/Universitas Quality.xlsx\n",
            "Hasil untuk tahun 2018 dan kampus Universitas Sari Mutiara Indonesia Medan telah disimpan dalam /content/drive/My Drive/Colab Notebooks/Promethee/hasil_promethee/2018/Universitas Sari Mutiara Indonesia Medan.xlsx\n",
            "Hasil untuk tahun 2018 dan kampus Universitas Sumatera Utara telah disimpan dalam /content/drive/My Drive/Colab Notebooks/Promethee/hasil_promethee/2018/Universitas Sumatera Utara.xlsx\n",
            "Hasil untuk tahun 2018 dan kampus Universitas Sumatera Utara  telah disimpan dalam /content/drive/My Drive/Colab Notebooks/Promethee/hasil_promethee/2018/Universitas Sumatera Utara .xlsx\n",
            "Hasil untuk tahun 2018 dan kampus Universitas Tamansiswa Padang telah disimpan dalam /content/drive/My Drive/Colab Notebooks/Promethee/hasil_promethee/2018/Universitas Tamansiswa Padang.xlsx\n",
            "Hasil untuk tahun 2019 dan kampus Akademi Informatika Dan Komputer Medicom telah disimpan dalam /content/drive/My Drive/Colab Notebooks/Promethee/hasil_promethee/2019/Akademi Informatika Dan Komputer Medicom.xlsx\n",
            "Hasil untuk tahun 2019 dan kampus Akademi Kebidanan Sari Husada telah disimpan dalam /content/drive/My Drive/Colab Notebooks/Promethee/hasil_promethee/2019/Akademi Kebidanan Sari Husada.xlsx\n",
            "Hasil untuk tahun 2019 dan kampus Amik Medan Business Polytechnic telah disimpan dalam /content/drive/My Drive/Colab Notebooks/Promethee/hasil_promethee/2019/Amik Medan Business Polytechnic.xlsx\n",
            "Hasil untuk tahun 2019 dan kampus Asm Cendana Medan telah disimpan dalam /content/drive/My Drive/Colab Notebooks/Promethee/hasil_promethee/2019/Asm Cendana Medan.xlsx\n",
            "Hasil untuk tahun 2019 dan kampus Institut Pertanian Bogor telah disimpan dalam /content/drive/My Drive/Colab Notebooks/Promethee/hasil_promethee/2019/Institut Pertanian Bogor.xlsx\n",
            "Hasil untuk tahun 2019 dan kampus Politeknik Mandiri Bina Prestasi telah disimpan dalam /content/drive/My Drive/Colab Notebooks/Promethee/hasil_promethee/2019/Politeknik Mandiri Bina Prestasi.xlsx\n",
            "Hasil untuk tahun 2019 dan kampus Politeknik Negeri Medan telah disimpan dalam /content/drive/My Drive/Colab Notebooks/Promethee/hasil_promethee/2019/Politeknik Negeri Medan.xlsx\n",
            "Hasil untuk tahun 2019 dan kampus Politeknik Wilmar Bisnis Indonesia telah disimpan dalam /content/drive/My Drive/Colab Notebooks/Promethee/hasil_promethee/2019/Politeknik Wilmar Bisnis Indonesia.xlsx\n",
            "Hasil untuk tahun 2019 dan kampus Stie Bina Karya Tebing Tinggi telah disimpan dalam /content/drive/My Drive/Colab Notebooks/Promethee/hasil_promethee/2019/Stie Bina Karya Tebing Tinggi.xlsx\n",
            "Hasil untuk tahun 2019 dan kampus Stie Eka Prasetya telah disimpan dalam /content/drive/My Drive/Colab Notebooks/Promethee/hasil_promethee/2019/Stie Eka Prasetya.xlsx\n",
            "Hasil untuk tahun 2019 dan kampus Stie Mikroskil telah disimpan dalam /content/drive/My Drive/Colab Notebooks/Promethee/hasil_promethee/2019/Stie Mikroskil.xlsx\n",
            "Hasil untuk tahun 2019 dan kampus Stmb Multismart  telah disimpan dalam /content/drive/My Drive/Colab Notebooks/Promethee/hasil_promethee/2019/Stmb Multismart .xlsx\n",
            "Hasil untuk tahun 2019 dan kampus Stmik Mikroskil telah disimpan dalam /content/drive/My Drive/Colab Notebooks/Promethee/hasil_promethee/2019/Stmik Mikroskil.xlsx\n",
            "Hasil untuk tahun 2019 dan kampus Stmik Time telah disimpan dalam /content/drive/My Drive/Colab Notebooks/Promethee/hasil_promethee/2019/Stmik Time.xlsx\n",
            "Hasil untuk tahun 2019 dan kampus Universitas Methodist Indonesia telah disimpan dalam /content/drive/My Drive/Colab Notebooks/Promethee/hasil_promethee/2019/Universitas Methodist Indonesia.xlsx\n",
            "Hasil untuk tahun 2019 dan kampus Universitas Negeri Medan telah disimpan dalam /content/drive/My Drive/Colab Notebooks/Promethee/hasil_promethee/2019/Universitas Negeri Medan.xlsx\n",
            "Hasil untuk tahun 2019 dan kampus Universitas Pamulang telah disimpan dalam /content/drive/My Drive/Colab Notebooks/Promethee/hasil_promethee/2019/Universitas Pamulang.xlsx\n",
            "Hasil untuk tahun 2019 dan kampus Universitas Papua  telah disimpan dalam /content/drive/My Drive/Colab Notebooks/Promethee/hasil_promethee/2019/Universitas Papua .xlsx\n",
            "Hasil untuk tahun 2019 dan kampus Universitas Pendidikan Indonesia telah disimpan dalam /content/drive/My Drive/Colab Notebooks/Promethee/hasil_promethee/2019/Universitas Pendidikan Indonesia.xlsx\n",
            "Hasil untuk tahun 2019 dan kampus Universitas Prima Indonesia telah disimpan dalam /content/drive/My Drive/Colab Notebooks/Promethee/hasil_promethee/2019/Universitas Prima Indonesia.xlsx\n",
            "Hasil untuk tahun 2019 dan kampus Universitas Quality telah disimpan dalam /content/drive/My Drive/Colab Notebooks/Promethee/hasil_promethee/2019/Universitas Quality.xlsx\n",
            "Hasil untuk tahun 2019 dan kampus Universitas Sumatera Utara telah disimpan dalam /content/drive/My Drive/Colab Notebooks/Promethee/hasil_promethee/2019/Universitas Sumatera Utara.xlsx\n",
            "Hasil untuk tahun 2020 dan kampus AMIK Medan Business Polytechnic telah disimpan dalam /content/drive/My Drive/Colab Notebooks/Promethee/hasil_promethee/2020/AMIK Medan Business Polytechnic.xlsx\n",
            "Hasil untuk tahun 2020 dan kampus Akademi Informatika Dan Komputer Medicom telah disimpan dalam /content/drive/My Drive/Colab Notebooks/Promethee/hasil_promethee/2020/Akademi Informatika Dan Komputer Medicom.xlsx\n",
            "Hasil untuk tahun 2020 dan kampus Akademi Keperawatan Kesdam I/Bukit Barisan Medan telah disimpan dalam /content/drive/My Drive/Colab Notebooks/Promethee/hasil_promethee/2020/Akademi Keperawatan Kesdam I-Bukit Barisan Medan.xlsx\n",
            "Hasil untuk tahun 2020 dan kampus Akademi Maritim Belawan telah disimpan dalam /content/drive/My Drive/Colab Notebooks/Promethee/hasil_promethee/2020/Akademi Maritim Belawan.xlsx\n",
            "Hasil untuk tahun 2020 dan kampus Politeknik Cendana telah disimpan dalam /content/drive/My Drive/Colab Notebooks/Promethee/hasil_promethee/2020/Politeknik Cendana.xlsx\n",
            "Hasil untuk tahun 2020 dan kampus Politeknik Ganesha Medan telah disimpan dalam /content/drive/My Drive/Colab Notebooks/Promethee/hasil_promethee/2020/Politeknik Ganesha Medan.xlsx\n",
            "Hasil untuk tahun 2020 dan kampus Politeknik Ganesha Medan  telah disimpan dalam /content/drive/My Drive/Colab Notebooks/Promethee/hasil_promethee/2020/Politeknik Ganesha Medan .xlsx\n",
            "Hasil untuk tahun 2020 dan kampus Politeknik Mandiri Bina Prestasi telah disimpan dalam /content/drive/My Drive/Colab Notebooks/Promethee/hasil_promethee/2020/Politeknik Mandiri Bina Prestasi.xlsx\n",
            "Hasil untuk tahun 2020 dan kampus Politeknik Negeri Banyuwangi telah disimpan dalam /content/drive/My Drive/Colab Notebooks/Promethee/hasil_promethee/2020/Politeknik Negeri Banyuwangi.xlsx\n",
            "Hasil untuk tahun 2020 dan kampus Politeknik Negeri Medan telah disimpan dalam /content/drive/My Drive/Colab Notebooks/Promethee/hasil_promethee/2020/Politeknik Negeri Medan.xlsx\n",
            "Hasil untuk tahun 2020 dan kampus Politeknik Negeri Sriwijaya telah disimpan dalam /content/drive/My Drive/Colab Notebooks/Promethee/hasil_promethee/2020/Politeknik Negeri Sriwijaya.xlsx\n",
            "Hasil untuk tahun 2020 dan kampus Politeknik Wilmar Bisnis Indonesia telah disimpan dalam /content/drive/My Drive/Colab Notebooks/Promethee/hasil_promethee/2020/Politeknik Wilmar Bisnis Indonesia.xlsx\n",
            "Hasil untuk tahun 2020 dan kampus Sekolah Tinggi Ilmu Ekonomi Eka Prasetya telah disimpan dalam /content/drive/My Drive/Colab Notebooks/Promethee/hasil_promethee/2020/Sekolah Tinggi Ilmu Ekonomi Eka Prasetya.xlsx\n",
            "Hasil untuk tahun 2020 dan kampus Sekolah Tinggi Olahraga Dan Kesehatan Bina Guna telah disimpan dalam /content/drive/My Drive/Colab Notebooks/Promethee/hasil_promethee/2020/Sekolah Tinggi Olahraga Dan Kesehatan Bina Guna.xlsx\n",
            "Hasil untuk tahun 2020 dan kampus Stba Persahabatan Internasional Asia telah disimpan dalam /content/drive/My Drive/Colab Notebooks/Promethee/hasil_promethee/2020/Stba Persahabatan Internasional Asia.xlsx\n",
            "Hasil untuk tahun 2020 dan kampus Stie Mikroskil telah disimpan dalam /content/drive/My Drive/Colab Notebooks/Promethee/hasil_promethee/2020/Stie Mikroskil.xlsx\n",
            "Hasil untuk tahun 2020 dan kampus Stikes Murni Teguh telah disimpan dalam /content/drive/My Drive/Colab Notebooks/Promethee/hasil_promethee/2020/Stikes Murni Teguh.xlsx\n",
            "Hasil untuk tahun 2020 dan kampus Stmik Mikroskil telah disimpan dalam /content/drive/My Drive/Colab Notebooks/Promethee/hasil_promethee/2020/Stmik Mikroskil.xlsx\n",
            "Hasil untuk tahun 2020 dan kampus Stmik Time telah disimpan dalam /content/drive/My Drive/Colab Notebooks/Promethee/hasil_promethee/2020/Stmik Time.xlsx\n",
            "Hasil untuk tahun 2020 dan kampus Stmik Time  telah disimpan dalam /content/drive/My Drive/Colab Notebooks/Promethee/hasil_promethee/2020/Stmik Time .xlsx\n",
            "Hasil untuk tahun 2020 dan kampus Universitas Gadjah Mada telah disimpan dalam /content/drive/My Drive/Colab Notebooks/Promethee/hasil_promethee/2020/Universitas Gadjah Mada.xlsx\n",
            "Hasil untuk tahun 2020 dan kampus Universitas Jambi telah disimpan dalam /content/drive/My Drive/Colab Notebooks/Promethee/hasil_promethee/2020/Universitas Jambi.xlsx\n",
            "Hasil untuk tahun 2020 dan kampus Universitas Katolik Santo Thomas telah disimpan dalam /content/drive/My Drive/Colab Notebooks/Promethee/hasil_promethee/2020/Universitas Katolik Santo Thomas.xlsx\n",
            "Hasil untuk tahun 2020 dan kampus Universitas Malikussaleh telah disimpan dalam /content/drive/My Drive/Colab Notebooks/Promethee/hasil_promethee/2020/Universitas Malikussaleh.xlsx\n",
            "Hasil untuk tahun 2020 dan kampus Universitas Methodist Indonesia telah disimpan dalam /content/drive/My Drive/Colab Notebooks/Promethee/hasil_promethee/2020/Universitas Methodist Indonesia.xlsx\n",
            "Hasil untuk tahun 2020 dan kampus Universitas Methodist Indonesia  telah disimpan dalam /content/drive/My Drive/Colab Notebooks/Promethee/hasil_promethee/2020/Universitas Methodist Indonesia .xlsx\n",
            "Hasil untuk tahun 2020 dan kampus Universitas Negeri Medan telah disimpan dalam /content/drive/My Drive/Colab Notebooks/Promethee/hasil_promethee/2020/Universitas Negeri Medan.xlsx\n",
            "Hasil untuk tahun 2020 dan kampus Universitas Negeri Padang telah disimpan dalam /content/drive/My Drive/Colab Notebooks/Promethee/hasil_promethee/2020/Universitas Negeri Padang.xlsx\n",
            "Hasil untuk tahun 2020 dan kampus Universitas Prima Indonesia telah disimpan dalam /content/drive/My Drive/Colab Notebooks/Promethee/hasil_promethee/2020/Universitas Prima Indonesia.xlsx\n",
            "Hasil untuk tahun 2020 dan kampus Universitas Quality telah disimpan dalam /content/drive/My Drive/Colab Notebooks/Promethee/hasil_promethee/2020/Universitas Quality.xlsx\n",
            "Hasil untuk tahun 2020 dan kampus Universitas Sam Ratulangi telah disimpan dalam /content/drive/My Drive/Colab Notebooks/Promethee/hasil_promethee/2020/Universitas Sam Ratulangi.xlsx\n",
            "Hasil untuk tahun 2020 dan kampus Universitas Sumatera Utara telah disimpan dalam /content/drive/My Drive/Colab Notebooks/Promethee/hasil_promethee/2020/Universitas Sumatera Utara.xlsx\n",
            "Hasil untuk tahun 2020 dan kampus Universitas Syiah Kuala telah disimpan dalam /content/drive/My Drive/Colab Notebooks/Promethee/hasil_promethee/2020/Universitas Syiah Kuala.xlsx\n",
            "Hasil untuk tahun 2020 dan kampus Universitas Udayana telah disimpan dalam /content/drive/My Drive/Colab Notebooks/Promethee/hasil_promethee/2020/Universitas Udayana.xlsx\n",
            "Hasil untuk tahun 2021 dan kampus AKPER KESDAM MEDAN telah disimpan dalam /content/drive/My Drive/Colab Notebooks/Promethee/hasil_promethee/2021/AKPER KESDAM MEDAN.xlsx\n",
            "Hasil untuk tahun 2021 dan kampus AMIK MBP MEDAN telah disimpan dalam /content/drive/My Drive/Colab Notebooks/Promethee/hasil_promethee/2021/AMIK MBP MEDAN.xlsx\n",
            "Hasil untuk tahun 2021 dan kampus AMIK MEDICOM telah disimpan dalam /content/drive/My Drive/Colab Notebooks/Promethee/hasil_promethee/2021/AMIK MEDICOM.xlsx\n",
            "Hasil untuk tahun 2021 dan kampus AMIK MEDICOM  telah disimpan dalam /content/drive/My Drive/Colab Notebooks/Promethee/hasil_promethee/2021/AMIK MEDICOM .xlsx\n",
            "Hasil untuk tahun 2021 dan kampus POLITEKNIK GANESHA telah disimpan dalam /content/drive/My Drive/Colab Notebooks/Promethee/hasil_promethee/2021/POLITEKNIK GANESHA.xlsx\n",
            "Hasil untuk tahun 2021 dan kampus POLITEKNIK MANDIRI BINA PRESTASI telah disimpan dalam /content/drive/My Drive/Colab Notebooks/Promethee/hasil_promethee/2021/POLITEKNIK MANDIRI BINA PRESTASI.xlsx\n",
            "Hasil untuk tahun 2021 dan kampus POLITEKNIK WILMAR BISNIS INDONESIA telah disimpan dalam /content/drive/My Drive/Colab Notebooks/Promethee/hasil_promethee/2021/POLITEKNIK WILMAR BISNIS INDONESIA.xlsx\n",
            "Hasil untuk tahun 2021 dan kampus Politeknik Negeri Medan telah disimpan dalam /content/drive/My Drive/Colab Notebooks/Promethee/hasil_promethee/2021/Politeknik Negeri Medan.xlsx\n",
            "Hasil untuk tahun 2021 dan kampus STIE EKA PRASETYA telah disimpan dalam /content/drive/My Drive/Colab Notebooks/Promethee/hasil_promethee/2021/STIE EKA PRASETYA.xlsx\n",
            "Hasil untuk tahun 2021 dan kampus STIE MIKROSKIL telah disimpan dalam /content/drive/My Drive/Colab Notebooks/Promethee/hasil_promethee/2021/STIE MIKROSKIL.xlsx\n",
            "Hasil untuk tahun 2021 dan kampus STMB MULTI SMART telah disimpan dalam /content/drive/My Drive/Colab Notebooks/Promethee/hasil_promethee/2021/STMB MULTI SMART.xlsx\n",
            "Hasil untuk tahun 2021 dan kampus STMIK MIKROSKIL telah disimpan dalam /content/drive/My Drive/Colab Notebooks/Promethee/hasil_promethee/2021/STMIK MIKROSKIL.xlsx\n",
            "Hasil untuk tahun 2021 dan kampus STMIK MIKROSKIL  telah disimpan dalam /content/drive/My Drive/Colab Notebooks/Promethee/hasil_promethee/2021/STMIK MIKROSKIL .xlsx\n",
            "Hasil untuk tahun 2021 dan kampus STMIK Mikroskil telah disimpan dalam /content/drive/My Drive/Colab Notebooks/Promethee/hasil_promethee/2021/STMIK Mikroskil.xlsx\n",
            "Hasil untuk tahun 2021 dan kampus STMIK TIME telah disimpan dalam /content/drive/My Drive/Colab Notebooks/Promethee/hasil_promethee/2021/STMIK TIME.xlsx\n",
            "Hasil untuk tahun 2021 dan kampus STMIK TIME  telah disimpan dalam /content/drive/My Drive/Colab Notebooks/Promethee/hasil_promethee/2021/STMIK TIME .xlsx\n",
            "Hasil untuk tahun 2021 dan kampus STOK BINA GUNA telah disimpan dalam /content/drive/My Drive/Colab Notebooks/Promethee/hasil_promethee/2021/STOK BINA GUNA.xlsx\n",
            "Hasil untuk tahun 2021 dan kampus STOK BINA GUNA  telah disimpan dalam /content/drive/My Drive/Colab Notebooks/Promethee/hasil_promethee/2021/STOK BINA GUNA .xlsx\n",
            "Hasil untuk tahun 2021 dan kampus UNISYAH telah disimpan dalam /content/drive/My Drive/Colab Notebooks/Promethee/hasil_promethee/2021/UNISYAH.xlsx\n",
            "Hasil untuk tahun 2021 dan kampus UNIVERSITAS KATOLIK SANTO THOMAS (UNIKA) telah disimpan dalam /content/drive/My Drive/Colab Notebooks/Promethee/hasil_promethee/2021/UNIVERSITAS KATOLIK SANTO THOMAS (UNIKA).xlsx\n",
            "Hasil untuk tahun 2021 dan kampus UNIVERSITAS QUALITY telah disimpan dalam /content/drive/My Drive/Colab Notebooks/Promethee/hasil_promethee/2021/UNIVERSITAS QUALITY.xlsx\n",
            "Hasil untuk tahun 2021 dan kampus Universitas Methodist Indonesia telah disimpan dalam /content/drive/My Drive/Colab Notebooks/Promethee/hasil_promethee/2021/Universitas Methodist Indonesia.xlsx\n",
            "Hasil untuk tahun 2021 dan kampus Universitas Negeri Medan telah disimpan dalam /content/drive/My Drive/Colab Notebooks/Promethee/hasil_promethee/2021/Universitas Negeri Medan.xlsx\n",
            "Hasil untuk tahun 2021 dan kampus Universitas Prima Indonesia telah disimpan dalam /content/drive/My Drive/Colab Notebooks/Promethee/hasil_promethee/2021/Universitas Prima Indonesia.xlsx\n",
            "Hasil untuk tahun 2021 dan kampus Universitas Sumatera Utara telah disimpan dalam /content/drive/My Drive/Colab Notebooks/Promethee/hasil_promethee/2021/Universitas Sumatera Utara.xlsx\n",
            "Proses selesai\n"
          ]
        }
      ],
      "source": [
        "import os\n",
        "import pandas as pd\n",
        "import warnings\n",
        "\n",
        "# Menyembunyikan peringatan\n",
        "warnings.filterwarnings(\"ignore\", category=RuntimeWarning)\n",
        "\n",
        "# Membaca data dari CSV\n",
        "data = pd.read_csv('drive/My Drive/Colab Notebooks/Promethee/Filtered_data.csv', delimiter=',')\n",
        "\n",
        "# Definisikan peta kriteria\n",
        "criteria_mapping = {\n",
        "    'Jumlah Saudara': {\n",
        "        'Sedikit': 3,  # tidak memenuhi kriteria\n",
        "        'Banyak': 2,   # memenuhi kriteria\n",
        "        'Sangatbanyak': 1  # sangat memenuhi kriteria\n",
        "    },\n",
        "    'Kriteria Penghasilan Orang Tua': {\n",
        "        'Rendah': 1,  # sangat memenuhi kriteria\n",
        "        'Sedang': 2,  # memenuhi kriteria\n",
        "        'Tinggi': 3   # tidak memenuhi kriteria\n",
        "    },\n",
        "    'Kepemilikan Rumah': {\n",
        "        'Bebas Sewa(menumpang)': 3,  # tidak memenuhi kriteria\n",
        "        'Milik Sendiri': 2,          # memenuhi kriteria\n",
        "        'Kontrak/Sewa': 1            # sangat memenuhi kriteria\n",
        "    },\n",
        "    'Sumber Listrik (PLN)': {\n",
        "        'SUBSIDI': 1,      # sangat memenuhi kriteria\n",
        "        'RTM': 2,          # memenuhi kriteria\n",
        "        'NONSUBSIDI': 3    # tidak memenuhi kriteria\n",
        "    },\n",
        "    'Nilai Ujian Tertulis': {\n",
        "        'Sangat Bagus': 1,  # sangat memenuhi kriteria\n",
        "        'Bagus': 2,         # memenuhi kriteria\n",
        "        'Buruk': 3          # tidak memenuhi kriteria\n",
        "    },\n",
        "    'Hasil Wawncara': {\n",
        "        'TINGGI': 1,  # sangat memenuhi kriteria\n",
        "        'SEDANG': 2,  # memenuhi kriteria\n",
        "        'RENDAH': 3   # tidak memenuhi kriteria\n",
        "    }\n",
        "}\n",
        "\n",
        "# Menerapkan peta kriteria ke filtered_data_Rating_Kecocokan_Pada_Setiap_Kriteria\n",
        "for column, mapping in criteria_mapping.items():\n",
        "    data[column] = data[column].map(mapping).astype('float64')\n",
        "\n",
        "# Mengganti Nama Mahasiswa dengan A1, A2, dst.\n",
        "data['Nama Mahasiswa'] = ['A' + str(i+1) for i in range(len(data))]\n",
        "\n",
        "# Definisikan kriteria\n",
        "criteria = ['Jumlah Saudara', 'Kriteria Penghasilan Orang Tua', 'Kepemilikan Rumah', 'Sumber Listrik (PLN)', 'Nilai Ujian Tertulis', 'Hasil Wawncara']\n",
        "\n",
        "# Memproses data yang difilter berdasarkan \"Tahun Pendaftaran\" dan \"Kampus Tujuan\"\n",
        "filtered_data = data.groupby(['TAHUN PENDAFTARAN', 'Kampus Tujuan'])\n",
        "\n",
        "# Membuat folder utama\n",
        "base_folder = '/content/drive/My Drive/Colab Notebooks/Promethee/hasil_promethee'\n",
        "os.makedirs(base_folder, exist_ok=True)\n",
        "\n",
        "for (year, campus), group in filtered_data:\n",
        "    group_index = group.index\n",
        "    decision_matrix = group[criteria].values\n",
        "\n",
        "    # Step 1: Normalize the matrix\n",
        "    norm_matrix = normalize_matrix(decision_matrix)\n",
        "\n",
        "    # Step 2: Calculate the preference matrix\n",
        "    preference_matrix = calculate_preference_function(norm_matrix)\n",
        "\n",
        "    # Step 3: Aggregate the preference matrix\n",
        "    aggregate_preference_matrix = calculate_aggregate_preference(preference_matrix, weights)\n",
        "\n",
        "    # Membuat folder untuk tahun pendaftaran\n",
        "    year_folder = os.path.join(base_folder, str(year))\n",
        "    os.makedirs(year_folder, exist_ok=True)\n",
        "\n",
        "    # Menyimpan hasil untuk grup ini\n",
        "    campus_file_name = f'{campus}.xlsx'.replace(\"/\", \"-\")\n",
        "    campus_file_path = os.path.join(year_folder, campus_file_name)\n",
        "\n",
        "    with pd.ExcelWriter(campus_file_path) as writer:\n",
        "        # Menyimpan Kecocokan Setiap Alternatif pada Setiap Kriteria\n",
        "        group[['Nama Mahasiswa'] + criteria].to_excel(writer, sheet_name='rating kecocokan', index=False)\n",
        "\n",
        "        # Menyimpan matriks normalisasi\n",
        "        norm_df = pd.DataFrame(norm_matrix, columns=criteria, index=group_index)\n",
        "        norm_df.to_excel(writer, sheet_name='Normalized Matrix')\n",
        "\n",
        "        # Menyimpan hasil preferensi dalam bentuk tabel\n",
        "        def create_preference_table(preference_matrix):\n",
        "            rows = []\n",
        "            for i in range(preference_matrix.shape[0]):\n",
        "                for i_prime in range(preference_matrix.shape[0]):\n",
        "                    if i != i_prime:\n",
        "                        row = [f\"A{i+1}{i_prime+1}\"]\n",
        "                        row.extend([preference_matrix[i, i_prime, j] for j in range(preference_matrix.shape[2])])\n",
        "                        rows.append(row)\n",
        "            columns = [\"Alternatif\", \"C1\", \"C2\", \"C3\", \"C4\", \"C5\",\"C6\"]\n",
        "            return pd.DataFrame(rows, columns=columns)\n",
        "\n",
        "        # Membuat tabel preferensi\n",
        "        preference_table = create_preference_table(preference_matrix)\n",
        "        preference_table.to_excel(writer, sheet_name='Preference Matrix')\n",
        "\n",
        "        # Menyimpan tabel agregat preferensi dalam format Tabel 7\n",
        "        tabel7_data = []\n",
        "        for i in range(aggregate_preference_matrix.shape[0]):\n",
        "            for i_prime in range(aggregate_preference_matrix.shape[1]):\n",
        "                if i != i_prime:\n",
        "                    C_values = [preference_matrix[i, i_prime, j] * weights[j] for j in range(preference_matrix.shape[2])]\n",
        "                    total = aggregate_preference_matrix[i, i_prime]\n",
        "                    tabel7_data.append([f\"A{i+1}{i_prime+1}\"] + C_values + [total])\n",
        "\n",
        "        tabel7_columns = [\"Alternatif\"] + [f\"C{j+1}\" for j in range(len(criteria))] + [\"Total\"]\n",
        "        tabel7_df = pd.DataFrame(tabel7_data, columns=tabel7_columns)\n",
        "        tabel7_df.to_excel(writer, sheet_name='Preferensi Agregat', index=False)\n",
        "\n",
        "        # Menyimpan tabel total agregat preferensi dalam format Tabel 8\n",
        "        tabel8_data = []\n",
        "        totals = np.sum(aggregate_preference_matrix, axis=1)\n",
        "        for i in range(aggregate_preference_matrix.shape[0]):\n",
        "            row_totals = [aggregate_preference_matrix[i, j] for j in range(aggregate_preference_matrix.shape[1])]\n",
        "            row_total_sum = totals[i]\n",
        "            tabel8_data.append([f\"A{i+1}\"] + row_totals + [row_total_sum])\n",
        "\n",
        "        tabel8_columns = [\"Alternatif\"] + [f\"A{j+1}\" for j in range(aggregate_preference_matrix.shape[1])] + [\"Total\"]\n",
        "        tabel8_df = pd.DataFrame(tabel8_data, columns=tabel8_columns)\n",
        "\n",
        "        # Adding the TOTAL row\n",
        "        column_totals = np.sum(aggregate_preference_matrix, axis=0)\n",
        "        total_total_sum = np.sum(column_totals)\n",
        "        total_row = [\"TOTAL\"] + list(column_totals) + [total_total_sum]\n",
        "        tabel8_df.loc[len(tabel8_df)] = total_row\n",
        "\n",
        "        tabel8_df.to_excel(writer, sheet_name='Perhitungan Agregat', index=False)\n",
        "\n",
        "        # Menyimpan leaving flow, entering flow, dan net flow\n",
        "        leaving_flow, entering_flow = promethee_flows(aggregate_preference_matrix)\n",
        "        net_flow = net_flows(leaving_flow, entering_flow)\n",
        "\n",
        "        flows_df = pd.DataFrame({\n",
        "            'Leaving Flow': leaving_flow,\n",
        "            'Entering Flow': entering_flow,\n",
        "            'Net Flow': net_flow\n",
        "        }, index=group_index)\n",
        "        flows_df.to_excel(writer, sheet_name='Flows')\n",
        "\n",
        "        # Menyimpan ranking\n",
        "        ranking = rank_alternatives(net_flow)\n",
        "        ranking_df = pd.DataFrame(ranking, index=group_index, columns=['Ranking'])\n",
        "        ranking_df.to_excel(writer, sheet_name='Ranking')\n",
        "\n",
        "\n",
        "\n",
        "    print(f\"Hasil untuk tahun {year} dan kampus {campus} telah disimpan dalam {campus_file_path}\")\n",
        "\n",
        "print(\"Proses selesai\")"
      ]
    }
  ],
  "metadata": {
    "colab": {
      "provenance": [],
      "authorship_tag": "ABX9TyOJEIvbgjgeXUbTmj68tIfy",
      "include_colab_link": true
    },
    "kernelspec": {
      "display_name": "Python 3",
      "name": "python3"
    },
    "language_info": {
      "name": "python"
    }
  },
  "nbformat": 4,
  "nbformat_minor": 0
}